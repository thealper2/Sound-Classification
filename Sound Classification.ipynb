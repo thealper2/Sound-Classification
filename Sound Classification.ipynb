{
 "cells": [
  {
   "cell_type": "markdown",
   "id": "b244631b-ebc1-4d3a-87d9-50f0aeabad1d",
   "metadata": {},
   "source": [
    "# Import Libraries"
   ]
  },
  {
   "cell_type": "code",
   "execution_count": null,
   "id": "7ebf14b2-2c0a-4f13-8ae9-6bd7bfb00a50",
   "metadata": {},
   "outputs": [],
   "source": [
    "import tensorflow as tf\n",
    "import numpy as np\n",
    "import pandas as pd\n",
    "import librosa\n",
    "import os\n",
    "import matplotlib.pyplot as plt\n",
    "import seaborn as sns\n",
    "from tqdm import tqdm\n",
    "from datetime import datetime\n",
    "from sklearn.model_selection import train_test_split\n",
    "from sklearn.preprocessing import LabelEncoder\n",
    "from tensorflow.keras.models import Sequential\n",
    "from tensorflow.keras.layers import Dense, Activation, Dropout, Conv2D, MaxPool2D, Flatten\n",
    "from tensorflow.keras.utils import to_categorical"
   ]
  },
  {
   "cell_type": "markdown",
   "id": "259370ff-3f4a-447d-baee-f3fbb32a3fb6",
   "metadata": {},
   "source": [
    "# Load Data"
   ]
  },
  {
   "cell_type": "code",
   "execution_count": null,
   "id": "ae5c7ac9-faa0-4ae1-ad96-38693e8ea9bb",
   "metadata": {},
   "outputs": [],
   "source": [
    "audio_files_path = \"/media/alper/B00A1E730A1E36B6/Datasets/urbansound8k/audio/\"\n",
    "df = pd.read_csv(\"/media/alper/B00A1E730A1E36B6/Datasets/urbansound8k/UrbanSound8K.csv\")\n",
    "df.head()"
   ]
  },
  {
   "cell_type": "code",
   "execution_count": null,
   "id": "376f87b3-67c5-4a2c-b08f-3de1bf43f466",
   "metadata": {},
   "outputs": [],
   "source": [
    "data = []\n",
    "labels = []\n",
    "\n",
    "for index, row in tqdm(df.iterrows()):\n",
    "    file_name = os.path.join(os.path.abspath(audio_files_path), \"fold\" + str(row[\"fold\"]) + \"/\", str(row[\"slice_file_name\"]))\n",
    "    audio, sample_rate = librosa.load(file_name, res_type=\"kaiser_fast\")\n",
    "    mfccs_features = librosa.feature.mfcc(y=audio, sr=sample_rate, n_mfcc=40)\n",
    "    mfccs_features_scaled = np.mean(mfccs_features.T, axis=0)\n",
    "    data.append(mfccs_features_scaled)\n",
    "    labels.append(row[\"class\"])"
   ]
  },
  {
   "cell_type": "code",
   "execution_count": null,
   "id": "55b6a734-fb54-4f3e-a931-d30e715b7ce4",
   "metadata": {},
   "outputs": [],
   "source": [
    "feature_df = pd.DataFrame({\"features\": data, \"class\": labels})\n",
    "feature_df.head()"
   ]
  },
  {
   "cell_type": "code",
   "execution_count": null,
   "id": "f6bcdb39-98d3-45fb-88b0-b612437f061a",
   "metadata": {},
   "outputs": [],
   "source": [
    "def label_encoder(column):\n",
    "    le = LabelEncoder().fit(column)\n",
    "    print(column.name, le.classes_)\n",
    "    return le.transform(column)"
   ]
  },
  {
   "cell_type": "code",
   "execution_count": null,
   "id": "fe394f1e-072c-4e2c-aacc-79c0acbc1842",
   "metadata": {},
   "outputs": [],
   "source": [
    "feature_df[\"class\"] = label_encoder(feature_df[\"class\"])"
   ]
  },
  {
   "cell_type": "code",
   "execution_count": null,
   "id": "0064a364-b063-4d80-aa92-5a824f6ebed5",
   "metadata": {},
   "outputs": [],
   "source": [
    "feature_df.head()"
   ]
  },
  {
   "cell_type": "code",
   "execution_count": null,
   "id": "9c005cf3-39de-4c39-bab8-71169cbf8993",
   "metadata": {},
   "outputs": [],
   "source": [
    "X = np.array(feature_df[\"features\"].tolist())\n",
    "y = np.array(feature_df[\"class\"].tolist())"
   ]
  },
  {
   "cell_type": "code",
   "execution_count": null,
   "id": "2d382400-2394-46b6-8507-1c02e89a3100",
   "metadata": {},
   "outputs": [],
   "source": [
    "X_train, X_test, y_train, y_test = train_test_split(X, y, test_size=0.2, random_state=42)"
   ]
  },
  {
   "cell_type": "code",
   "execution_count": null,
   "id": "7e7f41da-c5b4-4533-80c4-f376b45bcb16",
   "metadata": {},
   "outputs": [],
   "source": [
    "y_train = to_categorical(y_train)\n",
    "y_test = to_categorical(y_test)"
   ]
  },
  {
   "cell_type": "code",
   "execution_count": null,
   "id": "5c787ae6-7fe8-4971-93ff-bc7da94ff195",
   "metadata": {},
   "outputs": [],
   "source": [
    "num_labels = len(feature_df[\"class\"].unique())\n",
    "num_labels"
   ]
  },
  {
   "cell_type": "code",
   "execution_count": null,
   "id": "2eae95ae-5748-4c0c-9c8b-9f974908d9a7",
   "metadata": {},
   "outputs": [],
   "source": [
    "input_shape = feature_df[\"features\"][0].shape\n",
    "input_shape"
   ]
  },
  {
   "cell_type": "code",
   "execution_count": null,
   "id": "8cd8d78c-59d6-40b9-8727-b8f9efb87c6f",
   "metadata": {},
   "outputs": [],
   "source": [
    "model = Sequential()\n",
    "model.add(Dense(128, input_shape=input_shape))\n",
    "model.add(Activation(activation=\"relu\"))\n",
    "model.add(Dropout(0.5))\n",
    "model.add(Dense(256))\n",
    "model.add(Activation(activation=\"relu\"))\n",
    "model.add(Dropout(0.5))\n",
    "model.add(Dense(128))\n",
    "model.add(Activation(activation=\"relu\"))\n",
    "model.add(Dropout(0.5))\n",
    "model.add(Dense(num_labels))\n",
    "model.add(Activation(activation=\"softmax\"))"
   ]
  },
  {
   "cell_type": "code",
   "execution_count": null,
   "id": "3f2f0f7a-521b-4083-8731-1ee34e0396e0",
   "metadata": {},
   "outputs": [],
   "source": [
    "model.compile(loss=\"categorical_crossentropy\", optimizer=\"adam\", metrics=[\"accuracy\"])"
   ]
  },
  {
   "cell_type": "code",
   "execution_count": null,
   "id": "4e3f85b5-327a-4042-b6b1-16a8e690b0af",
   "metadata": {},
   "outputs": [],
   "source": [
    "model.summary()"
   ]
  },
  {
   "cell_type": "code",
   "execution_count": null,
   "id": "db2f36ae-a63e-46e6-931b-50593bce3a58",
   "metadata": {},
   "outputs": [],
   "source": [
    "history = model.fit(X_train, y_train, validation_data=(X_test, y_test), batch_size=32, epochs=100)"
   ]
  },
  {
   "cell_type": "code",
   "execution_count": null,
   "id": "ff043f56-8765-4629-a99a-e88bd1eb736a",
   "metadata": {},
   "outputs": [],
   "source": [
    "model.save(\"urban.h5\")"
   ]
  },
  {
   "cell_type": "code",
   "execution_count": null,
   "id": "dd24ed3d-7331-43a7-bfa2-c4d798c2f9b1",
   "metadata": {},
   "outputs": [],
   "source": [
    "test_loss, test_acc = model.evaluate(X_test, y_test)\n",
    "print(\"Test Loss:\", test_loss)\n",
    "print(\"Test Accuracy:\", test_acc)"
   ]
  },
  {
   "cell_type": "code",
   "execution_count": null,
   "id": "6a174e2b-8051-424e-9e48-b6031b474534",
   "metadata": {},
   "outputs": [],
   "source": [
    "plt.figure()\n",
    "plt.title(\"Model Accuracy\")\n",
    "plt.plot(history.history[\"accuracy\"], label=\"train\")\n",
    "plt.plot(history.history[\"val_accuracy\"], label=\"validation\")\n",
    "plt.legend()\n",
    "plt.show()"
   ]
  },
  {
   "cell_type": "code",
   "execution_count": null,
   "id": "747e1402-2959-4320-a326-69a1626d33b8",
   "metadata": {},
   "outputs": [],
   "source": [
    "plt.figure()\n",
    "plt.title(\"Model Loss\")\n",
    "plt.plot(history.history[\"loss\"], label=\"train\")\n",
    "plt.plot(history.history[\"val_loss\"], label=\"validation\")\n",
    "plt.legend()\n",
    "plt.show()"
   ]
  },
  {
   "cell_type": "code",
   "execution_count": null,
   "id": "424e4602-3aee-4433-9c9f-e9923ac30564",
   "metadata": {},
   "outputs": [],
   "source": [
    "filename = \"/media/alper/B00A1E730A1E36B6/Datasets/urbansound8k/dog.wav\"\n",
    "sound_signal, sample_rate = librosa.load(filename, res_type=\"kaiser_fast\")\n",
    "mfcc_features = librosa.feature.mfcc(y=sound_signal, sr=sample_rate, n_mfcc=40)\n",
    "mfccs_features_scaled = np.mean(mfcc_features.T, axis=0)\n",
    "mfccs_features_scaled = mfccs_features_scaled.reshape(1, -1)"
   ]
  },
  {
   "cell_type": "code",
   "execution_count": null,
   "id": "1389e55b-8aef-4455-93e9-e4fc9136b042",
   "metadata": {},
   "outputs": [],
   "source": [
    "result_array = model.predict(mfccs_features_scaled)"
   ]
  },
  {
   "cell_type": "code",
   "execution_count": null,
   "id": "683d56e9-df5b-45da-9f33-2443a30807c3",
   "metadata": {},
   "outputs": [],
   "source": [
    "result_classes = ['air_conditioner', 'car_horn', 'children_playing', 'dog_bark', 'drilling',\n",
    "                  'engine_idling', 'gun_shot', 'jackhammer', 'siren', 'street_music']"
   ]
  },
  {
   "cell_type": "code",
   "execution_count": null,
   "id": "d436eab8-e03c-4289-92c6-7ff7285c666e",
   "metadata": {},
   "outputs": [],
   "source": [
    "result = np.argmax(result_array[0])"
   ]
  },
  {
   "cell_type": "code",
   "execution_count": null,
   "id": "ab799cfc-9fca-4251-9a85-9b9a4e60b5ef",
   "metadata": {},
   "outputs": [],
   "source": [
    "result_classes[result]"
   ]
  },
  {
   "cell_type": "code",
   "execution_count": null,
   "id": "4e7ed5e0-c9b8-45e5-ad14-cfb0d6b8ee57",
   "metadata": {},
   "outputs": [],
   "source": []
  }
 ],
 "metadata": {
  "kernelspec": {
   "display_name": "Python 3 (ipykernel)",
   "language": "python",
   "name": "python3"
  },
  "language_info": {
   "codemirror_mode": {
    "name": "ipython",
    "version": 3
   },
   "file_extension": ".py",
   "mimetype": "text/x-python",
   "name": "python",
   "nbconvert_exporter": "python",
   "pygments_lexer": "ipython3",
   "version": "3.10.12"
  }
 },
 "nbformat": 4,
 "nbformat_minor": 5
}
